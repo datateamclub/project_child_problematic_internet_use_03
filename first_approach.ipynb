{
 "cells": [
  {
   "cell_type": "markdown",
   "id": "5d3157fc",
   "metadata": {
    "papermill": {
     "duration": 0.004179,
     "end_time": "2024-10-31T23:39:05.416903",
     "exception": false,
     "start_time": "2024-10-31T23:39:05.412724",
     "status": "completed"
    },
    "tags": []
   },
   "source": [
    "# Child Mind Institute — Problematic Internet Use \n",
    "\n",
    "### Relating Physical Activity to Problematic Internet Use\n",
    "\n",
    "Can you predict the level of problematic internet usage exhibited by children and adolescents, based on their physical activity? The goal of this competition is to develop a predictive model that analyzes children's physical activity and fitness data to identify early signs of problematic internet use. Identifying these patterns can help trigger interventions to encourage healthier digital habits."
   ]
  },
  {
   "cell_type": "markdown",
   "id": "06ffc91e",
   "metadata": {
    "execution": {
     "iopub.execute_input": "2024-10-31T22:50:22.722644Z",
     "iopub.status.busy": "2024-10-31T22:50:22.722144Z",
     "iopub.status.idle": "2024-10-31T22:50:22.728445Z",
     "shell.execute_reply": "2024-10-31T22:50:22.726692Z",
     "shell.execute_reply.started": "2024-10-31T22:50:22.722592Z"
    },
    "papermill": {
     "duration": 0.003254,
     "end_time": "2024-10-31T23:39:05.424040",
     "exception": false,
     "start_time": "2024-10-31T23:39:05.420786",
     "status": "completed"
    },
    "tags": []
   },
   "source": [
    "### Import Libraries"
   ]
  },
  {
   "cell_type": "code",
   "execution_count": 1,
   "id": "d330f9ad",
   "metadata": {
    "execution": {
     "iopub.execute_input": "2024-10-31T23:39:05.432865Z",
     "iopub.status.busy": "2024-10-31T23:39:05.432418Z",
     "iopub.status.idle": "2024-10-31T23:39:06.461454Z",
     "shell.execute_reply": "2024-10-31T23:39:06.459926Z"
    },
    "papermill": {
     "duration": 1.037448,
     "end_time": "2024-10-31T23:39:06.464984",
     "exception": false,
     "start_time": "2024-10-31T23:39:05.427536",
     "status": "completed"
    },
    "tags": []
   },
   "outputs": [],
   "source": [
    "import pandas as pd\n",
    "import numpy as np\n",
    "import os\n",
    "from tqdm import tqdm\n",
    "from concurrent.futures import ThreadPoolExecutor"
   ]
  },
  {
   "cell_type": "markdown",
   "id": "c4adf32a",
   "metadata": {
    "execution": {
     "iopub.execute_input": "2024-10-31T22:48:52.984870Z",
     "iopub.status.busy": "2024-10-31T22:48:52.984405Z",
     "iopub.status.idle": "2024-10-31T22:48:52.990934Z",
     "shell.execute_reply": "2024-10-31T22:48:52.989281Z",
     "shell.execute_reply.started": "2024-10-31T22:48:52.984827Z"
    },
    "papermill": {
     "duration": 0.003412,
     "end_time": "2024-10-31T23:39:06.472232",
     "exception": false,
     "start_time": "2024-10-31T23:39:06.468820",
     "status": "completed"
    },
    "tags": []
   },
   "source": [
    "#### Context"
   ]
  },
  {
   "cell_type": "markdown",
   "id": "9503b224",
   "metadata": {
    "execution": {
     "iopub.execute_input": "2024-10-31T22:41:09.781408Z",
     "iopub.status.busy": "2024-10-31T22:41:09.780930Z",
     "iopub.status.idle": "2024-10-31T22:41:09.819062Z",
     "shell.execute_reply": "2024-10-31T22:41:09.817306Z",
     "shell.execute_reply.started": "2024-10-31T22:41:09.781362Z"
    },
    "papermill": {
     "duration": 0.003201,
     "end_time": "2024-10-31T23:39:06.479055",
     "exception": false,
     "start_time": "2024-10-31T23:39:06.475854",
     "status": "completed"
    },
    "tags": []
   },
   "source": [
    "#### __Useful Functions__"
   ]
  },
  {
   "cell_type": "code",
   "execution_count": 2,
   "id": "3b5f6109",
   "metadata": {
    "execution": {
     "iopub.execute_input": "2024-10-31T23:39:06.488206Z",
     "iopub.status.busy": "2024-10-31T23:39:06.487623Z",
     "iopub.status.idle": "2024-10-31T23:39:06.496834Z",
     "shell.execute_reply": "2024-10-31T23:39:06.495641Z"
    },
    "papermill": {
     "duration": 0.016921,
     "end_time": "2024-10-31T23:39:06.499448",
     "exception": false,
     "start_time": "2024-10-31T23:39:06.482527",
     "status": "completed"
    },
    "tags": []
   },
   "outputs": [],
   "source": [
    "def process_file(filename, dirname):\n",
    "    df = pd.read_parquet(os.path.join(dirname, filename, 'part-0.parquet'))\n",
    "    df.drop('step', axis=1, inplace=True)\n",
    "    return df.describe().values.reshape(-1), filename.split('=')[1]\n",
    "\n",
    "def load_time_series(dirname) -> pd.DataFrame:\n",
    "    ids = os.listdir(dirname)\n",
    "    \n",
    "    with ThreadPoolExecutor() as executor:\n",
    "        results = list(tqdm(executor.map(lambda fname: process_file(fname, dirname), ids), total=len(ids)))\n",
    "    \n",
    "    stats, indexes = zip(*results)\n",
    "    \n",
    "    df = pd.DataFrame(stats, columns=[f\"stat_{i}\" for i in range(len(stats[0]))])\n",
    "    df['id'] = indexes\n",
    "    return df"
   ]
  },
  {
   "cell_type": "markdown",
   "id": "72211557",
   "metadata": {
    "papermill": {
     "duration": 0.003371,
     "end_time": "2024-10-31T23:39:06.506536",
     "exception": false,
     "start_time": "2024-10-31T23:39:06.503165",
     "status": "completed"
    },
    "tags": []
   },
   "source": [
    "#### Import data"
   ]
  },
  {
   "cell_type": "code",
   "execution_count": 3,
   "id": "17ebb9d2",
   "metadata": {
    "execution": {
     "iopub.execute_input": "2024-10-31T23:39:06.515625Z",
     "iopub.status.busy": "2024-10-31T23:39:06.515150Z",
     "iopub.status.idle": "2024-10-31T23:40:46.320460Z",
     "shell.execute_reply": "2024-10-31T23:40:46.319108Z"
    },
    "papermill": {
     "duration": 99.813077,
     "end_time": "2024-10-31T23:40:46.323184",
     "exception": false,
     "start_time": "2024-10-31T23:39:06.510107",
     "status": "completed"
    },
    "tags": []
   },
   "outputs": [
    {
     "name": "stderr",
     "output_type": "stream",
     "text": [
      "100%|██████████| 996/996 [01:39<00:00, 10.03it/s]\n",
      "100%|██████████| 2/2 [00:00<00:00,  8.82it/s]\n"
     ]
    }
   ],
   "source": [
    "train = pd.read_csv('/kaggle/input/child-mind-institute-problematic-internet-use/train.csv')\n",
    "test = pd.read_csv('/kaggle/input/child-mind-institute-problematic-internet-use/test.csv')\n",
    "sample = pd.read_csv('/kaggle/input/child-mind-institute-problematic-internet-use/sample_submission.csv')\n",
    "\n",
    "train_ts = load_time_series(\"/kaggle/input/child-mind-institute-problematic-internet-use/series_train.parquet\")\n",
    "test_ts = load_time_series(\"/kaggle/input/child-mind-institute-problematic-internet-use/series_test.parquet\")"
   ]
  },
  {
   "cell_type": "code",
   "execution_count": 4,
   "id": "0e9f9dc1",
   "metadata": {
    "execution": {
     "iopub.execute_input": "2024-10-31T23:40:46.382307Z",
     "iopub.status.busy": "2024-10-31T23:40:46.381859Z",
     "iopub.status.idle": "2024-10-31T23:40:46.417785Z",
     "shell.execute_reply": "2024-10-31T23:40:46.416626Z"
    },
    "papermill": {
     "duration": 0.068415,
     "end_time": "2024-10-31T23:40:46.420491",
     "exception": false,
     "start_time": "2024-10-31T23:40:46.352076",
     "status": "completed"
    },
    "tags": []
   },
   "outputs": [
    {
     "data": {
      "text/html": [
       "<div>\n",
       "<style scoped>\n",
       "    .dataframe tbody tr th:only-of-type {\n",
       "        vertical-align: middle;\n",
       "    }\n",
       "\n",
       "    .dataframe tbody tr th {\n",
       "        vertical-align: top;\n",
       "    }\n",
       "\n",
       "    .dataframe thead th {\n",
       "        text-align: right;\n",
       "    }\n",
       "</style>\n",
       "<table border=\"1\" class=\"dataframe\">\n",
       "  <thead>\n",
       "    <tr style=\"text-align: right;\">\n",
       "      <th></th>\n",
       "      <th>id</th>\n",
       "      <th>Basic_Demos-Enroll_Season</th>\n",
       "      <th>Basic_Demos-Age</th>\n",
       "      <th>Basic_Demos-Sex</th>\n",
       "      <th>CGAS-Season</th>\n",
       "      <th>CGAS-CGAS_Score</th>\n",
       "      <th>Physical-Season</th>\n",
       "      <th>Physical-BMI</th>\n",
       "      <th>Physical-Height</th>\n",
       "      <th>Physical-Weight</th>\n",
       "      <th>...</th>\n",
       "      <th>PCIAT-PCIAT_18</th>\n",
       "      <th>PCIAT-PCIAT_19</th>\n",
       "      <th>PCIAT-PCIAT_20</th>\n",
       "      <th>PCIAT-PCIAT_Total</th>\n",
       "      <th>SDS-Season</th>\n",
       "      <th>SDS-SDS_Total_Raw</th>\n",
       "      <th>SDS-SDS_Total_T</th>\n",
       "      <th>PreInt_EduHx-Season</th>\n",
       "      <th>PreInt_EduHx-computerinternet_hoursday</th>\n",
       "      <th>sii</th>\n",
       "    </tr>\n",
       "  </thead>\n",
       "  <tbody>\n",
       "    <tr>\n",
       "      <th>0</th>\n",
       "      <td>00008ff9</td>\n",
       "      <td>Fall</td>\n",
       "      <td>5</td>\n",
       "      <td>0</td>\n",
       "      <td>Winter</td>\n",
       "      <td>51.0</td>\n",
       "      <td>Fall</td>\n",
       "      <td>16.877316</td>\n",
       "      <td>46.0</td>\n",
       "      <td>50.8</td>\n",
       "      <td>...</td>\n",
       "      <td>4.0</td>\n",
       "      <td>2.0</td>\n",
       "      <td>4.0</td>\n",
       "      <td>55.0</td>\n",
       "      <td>NaN</td>\n",
       "      <td>NaN</td>\n",
       "      <td>NaN</td>\n",
       "      <td>Fall</td>\n",
       "      <td>3.0</td>\n",
       "      <td>2.0</td>\n",
       "    </tr>\n",
       "    <tr>\n",
       "      <th>1</th>\n",
       "      <td>000fd460</td>\n",
       "      <td>Summer</td>\n",
       "      <td>9</td>\n",
       "      <td>0</td>\n",
       "      <td>NaN</td>\n",
       "      <td>NaN</td>\n",
       "      <td>Fall</td>\n",
       "      <td>14.035590</td>\n",
       "      <td>48.0</td>\n",
       "      <td>46.0</td>\n",
       "      <td>...</td>\n",
       "      <td>0.0</td>\n",
       "      <td>0.0</td>\n",
       "      <td>0.0</td>\n",
       "      <td>0.0</td>\n",
       "      <td>Fall</td>\n",
       "      <td>46.0</td>\n",
       "      <td>64.0</td>\n",
       "      <td>Summer</td>\n",
       "      <td>0.0</td>\n",
       "      <td>0.0</td>\n",
       "    </tr>\n",
       "    <tr>\n",
       "      <th>2</th>\n",
       "      <td>00105258</td>\n",
       "      <td>Summer</td>\n",
       "      <td>10</td>\n",
       "      <td>1</td>\n",
       "      <td>Fall</td>\n",
       "      <td>71.0</td>\n",
       "      <td>Fall</td>\n",
       "      <td>16.648696</td>\n",
       "      <td>56.5</td>\n",
       "      <td>75.6</td>\n",
       "      <td>...</td>\n",
       "      <td>2.0</td>\n",
       "      <td>1.0</td>\n",
       "      <td>1.0</td>\n",
       "      <td>28.0</td>\n",
       "      <td>Fall</td>\n",
       "      <td>38.0</td>\n",
       "      <td>54.0</td>\n",
       "      <td>Summer</td>\n",
       "      <td>2.0</td>\n",
       "      <td>0.0</td>\n",
       "    </tr>\n",
       "    <tr>\n",
       "      <th>3</th>\n",
       "      <td>00115b9f</td>\n",
       "      <td>Winter</td>\n",
       "      <td>9</td>\n",
       "      <td>0</td>\n",
       "      <td>Fall</td>\n",
       "      <td>71.0</td>\n",
       "      <td>Summer</td>\n",
       "      <td>18.292347</td>\n",
       "      <td>56.0</td>\n",
       "      <td>81.6</td>\n",
       "      <td>...</td>\n",
       "      <td>3.0</td>\n",
       "      <td>4.0</td>\n",
       "      <td>1.0</td>\n",
       "      <td>44.0</td>\n",
       "      <td>Summer</td>\n",
       "      <td>31.0</td>\n",
       "      <td>45.0</td>\n",
       "      <td>Winter</td>\n",
       "      <td>0.0</td>\n",
       "      <td>1.0</td>\n",
       "    </tr>\n",
       "    <tr>\n",
       "      <th>4</th>\n",
       "      <td>0016bb22</td>\n",
       "      <td>Spring</td>\n",
       "      <td>18</td>\n",
       "      <td>1</td>\n",
       "      <td>Summer</td>\n",
       "      <td>NaN</td>\n",
       "      <td>NaN</td>\n",
       "      <td>NaN</td>\n",
       "      <td>NaN</td>\n",
       "      <td>NaN</td>\n",
       "      <td>...</td>\n",
       "      <td>NaN</td>\n",
       "      <td>NaN</td>\n",
       "      <td>NaN</td>\n",
       "      <td>NaN</td>\n",
       "      <td>NaN</td>\n",
       "      <td>NaN</td>\n",
       "      <td>NaN</td>\n",
       "      <td>NaN</td>\n",
       "      <td>NaN</td>\n",
       "      <td>NaN</td>\n",
       "    </tr>\n",
       "  </tbody>\n",
       "</table>\n",
       "<p>5 rows × 82 columns</p>\n",
       "</div>"
      ],
      "text/plain": [
       "         id Basic_Demos-Enroll_Season  Basic_Demos-Age  Basic_Demos-Sex  \\\n",
       "0  00008ff9                      Fall                5                0   \n",
       "1  000fd460                    Summer                9                0   \n",
       "2  00105258                    Summer               10                1   \n",
       "3  00115b9f                    Winter                9                0   \n",
       "4  0016bb22                    Spring               18                1   \n",
       "\n",
       "  CGAS-Season  CGAS-CGAS_Score Physical-Season  Physical-BMI  Physical-Height  \\\n",
       "0      Winter             51.0            Fall     16.877316             46.0   \n",
       "1         NaN              NaN            Fall     14.035590             48.0   \n",
       "2        Fall             71.0            Fall     16.648696             56.5   \n",
       "3        Fall             71.0          Summer     18.292347             56.0   \n",
       "4      Summer              NaN             NaN           NaN              NaN   \n",
       "\n",
       "   Physical-Weight  ...  PCIAT-PCIAT_18  PCIAT-PCIAT_19  PCIAT-PCIAT_20  \\\n",
       "0             50.8  ...             4.0             2.0             4.0   \n",
       "1             46.0  ...             0.0             0.0             0.0   \n",
       "2             75.6  ...             2.0             1.0             1.0   \n",
       "3             81.6  ...             3.0             4.0             1.0   \n",
       "4              NaN  ...             NaN             NaN             NaN   \n",
       "\n",
       "   PCIAT-PCIAT_Total SDS-Season  SDS-SDS_Total_Raw  SDS-SDS_Total_T  \\\n",
       "0               55.0        NaN                NaN              NaN   \n",
       "1                0.0       Fall               46.0             64.0   \n",
       "2               28.0       Fall               38.0             54.0   \n",
       "3               44.0     Summer               31.0             45.0   \n",
       "4                NaN        NaN                NaN              NaN   \n",
       "\n",
       "   PreInt_EduHx-Season PreInt_EduHx-computerinternet_hoursday  sii  \n",
       "0                 Fall                                    3.0  2.0  \n",
       "1               Summer                                    0.0  0.0  \n",
       "2               Summer                                    2.0  0.0  \n",
       "3               Winter                                    0.0  1.0  \n",
       "4                  NaN                                    NaN  NaN  \n",
       "\n",
       "[5 rows x 82 columns]"
      ]
     },
     "execution_count": 4,
     "metadata": {},
     "output_type": "execute_result"
    }
   ],
   "source": [
    "train.head()"
   ]
  },
  {
   "cell_type": "markdown",
   "id": "109bee76",
   "metadata": {
    "papermill": {
     "duration": 0.028172,
     "end_time": "2024-10-31T23:40:46.477430",
     "exception": false,
     "start_time": "2024-10-31T23:40:46.449258",
     "status": "completed"
    },
    "tags": []
   },
   "source": [
    "#### Data Prep\n",
    "\n",
    "- delete redundant variables\n",
    "- "
   ]
  },
  {
   "cell_type": "code",
   "execution_count": 5,
   "id": "1398c747",
   "metadata": {
    "execution": {
     "iopub.execute_input": "2024-10-31T23:40:46.536724Z",
     "iopub.status.busy": "2024-10-31T23:40:46.535631Z",
     "iopub.status.idle": "2024-10-31T23:40:46.544507Z",
     "shell.execute_reply": "2024-10-31T23:40:46.543106Z"
    },
    "papermill": {
     "duration": 0.041012,
     "end_time": "2024-10-31T23:40:46.547153",
     "exception": false,
     "start_time": "2024-10-31T23:40:46.506141",
     "status": "completed"
    },
    "tags": []
   },
   "outputs": [
    {
     "data": {
      "text/plain": [
       "Index(['id', 'Basic_Demos-Enroll_Season', 'Basic_Demos-Age', 'Basic_Demos-Sex',\n",
       "       'CGAS-Season', 'CGAS-CGAS_Score', 'Physical-Season', 'Physical-BMI',\n",
       "       'Physical-Height', 'Physical-Weight', 'Physical-Waist_Circumference',\n",
       "       'Physical-Diastolic_BP', 'Physical-HeartRate', 'Physical-Systolic_BP',\n",
       "       'Fitness_Endurance-Season', 'Fitness_Endurance-Max_Stage',\n",
       "       'Fitness_Endurance-Time_Mins', 'Fitness_Endurance-Time_Sec',\n",
       "       'FGC-Season', 'FGC-FGC_CU', 'FGC-FGC_CU_Zone', 'FGC-FGC_GSND',\n",
       "       'FGC-FGC_GSND_Zone', 'FGC-FGC_GSD', 'FGC-FGC_GSD_Zone', 'FGC-FGC_PU',\n",
       "       'FGC-FGC_PU_Zone', 'FGC-FGC_SRL', 'FGC-FGC_SRL_Zone', 'FGC-FGC_SRR',\n",
       "       'FGC-FGC_SRR_Zone', 'FGC-FGC_TL', 'FGC-FGC_TL_Zone', 'BIA-Season',\n",
       "       'BIA-BIA_Activity_Level_num', 'BIA-BIA_BMC', 'BIA-BIA_BMI',\n",
       "       'BIA-BIA_BMR', 'BIA-BIA_DEE', 'BIA-BIA_ECW', 'BIA-BIA_FFM',\n",
       "       'BIA-BIA_FFMI', 'BIA-BIA_FMI', 'BIA-BIA_Fat', 'BIA-BIA_Frame_num',\n",
       "       'BIA-BIA_ICW', 'BIA-BIA_LDM', 'BIA-BIA_LST', 'BIA-BIA_SMM',\n",
       "       'BIA-BIA_TBW', 'PAQ_A-Season', 'PAQ_A-PAQ_A_Total', 'PAQ_C-Season',\n",
       "       'PAQ_C-PAQ_C_Total', 'PCIAT-Season', 'PCIAT-PCIAT_01', 'PCIAT-PCIAT_02',\n",
       "       'PCIAT-PCIAT_03', 'PCIAT-PCIAT_04', 'PCIAT-PCIAT_05', 'PCIAT-PCIAT_06',\n",
       "       'PCIAT-PCIAT_07', 'PCIAT-PCIAT_08', 'PCIAT-PCIAT_09', 'PCIAT-PCIAT_10',\n",
       "       'PCIAT-PCIAT_11', 'PCIAT-PCIAT_12', 'PCIAT-PCIAT_13', 'PCIAT-PCIAT_14',\n",
       "       'PCIAT-PCIAT_15', 'PCIAT-PCIAT_16', 'PCIAT-PCIAT_17', 'PCIAT-PCIAT_18',\n",
       "       'PCIAT-PCIAT_19', 'PCIAT-PCIAT_20', 'PCIAT-PCIAT_Total', 'SDS-Season',\n",
       "       'SDS-SDS_Total_Raw', 'SDS-SDS_Total_T', 'PreInt_EduHx-Season',\n",
       "       'PreInt_EduHx-computerinternet_hoursday', 'sii'],\n",
       "      dtype='object')"
      ]
     },
     "execution_count": 5,
     "metadata": {},
     "output_type": "execute_result"
    }
   ],
   "source": [
    "train.columns"
   ]
  },
  {
   "cell_type": "code",
   "execution_count": 6,
   "id": "abbdfc34",
   "metadata": {
    "execution": {
     "iopub.execute_input": "2024-10-31T23:40:46.609096Z",
     "iopub.status.busy": "2024-10-31T23:40:46.608266Z",
     "iopub.status.idle": "2024-10-31T23:40:46.617009Z",
     "shell.execute_reply": "2024-10-31T23:40:46.615758Z"
    },
    "papermill": {
     "duration": 0.043135,
     "end_time": "2024-10-31T23:40:46.619814",
     "exception": false,
     "start_time": "2024-10-31T23:40:46.576679",
     "status": "completed"
    },
    "tags": []
   },
   "outputs": [],
   "source": [
    "def delete_redundant_variables(df): \n",
    "    df= df[['Basic_Demos-Age', \n",
    "            'Basic_Demos-Sex', \n",
    "            'CGAS-CGAS_Score', \n",
    "            'Physical-BMI',\n",
    "            'Physical-Height',\n",
    "            'Physical-Weight', \n",
    "            'Physical-Waist_Circumference', \n",
    "            'Physical-Diastolic_BP',\n",
    "            'Physical-HeartRate',\n",
    "            'Physical-Systolic_BP',\n",
    "            'Fitness_Endurance-Max_Stage',\n",
    "            'Fitness_Endurance-Time_Mins',\n",
    "            'Fitness_Endurance-Time_Sec',\n",
    "            'FGC-FGC_CU_Zone',\n",
    "            'FGC-FGC_GSND_Zone',\n",
    "            'FGC-FGC_GSD_Zone',\n",
    "            'FGC-FGC_PU_Zone',\n",
    "            'FGC-FGC_SRL_Zone',\n",
    "            'FGC-FGC_SRR_Zone',\n",
    "            'FGC-FGC_TL_Zone',\n",
    "            'BIA-BIA_Activity_Level_num', 'BIA-BIA_BMC', 'BIA-BIA_BMI',\n",
    "            'BIA-BIA_BMR', 'BIA-BIA_DEE', 'BIA-BIA_ECW', 'BIA-BIA_FFM',\n",
    "            'BIA-BIA_FFMI', 'BIA-BIA_FMI', 'BIA-BIA_Fat', 'BIA-BIA_Frame_num',\n",
    "            'BIA-BIA_ICW', 'BIA-BIA_LDM', 'BIA-BIA_LST', 'BIA-BIA_SMM',\n",
    "            'BIA-BIA_TBW', \n",
    "            'PAQ_A-PAQ_A_Total',\n",
    "            'PAQ_C-PAQ_C_Total',\n",
    "            'PCIAT-PCIAT_01', 'PCIAT-PCIAT_02',\n",
    "            'PCIAT-PCIAT_03', 'PCIAT-PCIAT_04', 'PCIAT-PCIAT_05', 'PCIAT-PCIAT_06',\n",
    "            'PCIAT-PCIAT_07', 'PCIAT-PCIAT_08', 'PCIAT-PCIAT_09', 'PCIAT-PCIAT_10',\n",
    "            'PCIAT-PCIAT_11', 'PCIAT-PCIAT_12', 'PCIAT-PCIAT_13', 'PCIAT-PCIAT_14',\n",
    "            'PCIAT-PCIAT_15', 'PCIAT-PCIAT_16', 'PCIAT-PCIAT_17', 'PCIAT-PCIAT_18',\n",
    "            'PCIAT-PCIAT_19', 'PCIAT-PCIAT_20', 'PCIAT-PCIAT_Total', # target\n",
    "            \n",
    "            \n",
    "            \n",
    "            \n",
    "            \n",
    "           \n",
    "           \n",
    "           ]]"
   ]
  }
 ],
 "metadata": {
  "kaggle": {
   "accelerator": "none",
   "dataSources": [
    {
     "databundleVersionId": 9643020,
     "sourceId": 81933,
     "sourceType": "competition"
    }
   ],
   "dockerImageVersionId": 30786,
   "isGpuEnabled": false,
   "isInternetEnabled": true,
   "language": "python",
   "sourceType": "notebook"
  },
  "kernelspec": {
   "display_name": "Python 3",
   "language": "python",
   "name": "python3"
  },
  "language_info": {
   "codemirror_mode": {
    "name": "ipython",
    "version": 3
   },
   "file_extension": ".py",
   "mimetype": "text/x-python",
   "name": "python",
   "nbconvert_exporter": "python",
   "pygments_lexer": "ipython3",
   "version": "3.10.14"
  },
  "papermill": {
   "default_parameters": {},
   "duration": 104.702694,
   "end_time": "2024-10-31T23:40:47.169968",
   "environment_variables": {},
   "exception": null,
   "input_path": "__notebook__.ipynb",
   "output_path": "__notebook__.ipynb",
   "parameters": {},
   "start_time": "2024-10-31T23:39:02.467274",
   "version": "2.6.0"
  }
 },
 "nbformat": 4,
 "nbformat_minor": 5
}
